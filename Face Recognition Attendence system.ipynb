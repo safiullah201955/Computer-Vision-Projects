{
 "cells": [
  {
   "cell_type": "code",
   "execution_count": 2,
   "id": "2448df6e-7db4-4ed0-9306-dd0d48d037e5",
   "metadata": {},
   "outputs": [
    {
     "name": "stdout",
     "output_type": "stream",
     "text": [
      "Microsoft Windows [Version 10.0.26100.4349]\n",
      "(c) Microsoft Corporation. All rights reserved.\n",
      "\n",
      "(base) C:\\Users\\farha>where python\n",
      "C:\\Users\\farha\\anaconda3\\python.exe\n",
      "C:\\Users\\farha\\AppData\\Local\\Programs\\Python\\Python313\\python.exe\n",
      "C:\\Users\\farha\\AppData\\Local\\Microsoft\\WindowsApps\\python.exe\n",
      "\n",
      "(base) C:\\Users\\farha>"
     ]
    }
   ],
   "source": [
    "%%cmd\n",
    "where python"
   ]
  },
  {
   "cell_type": "code",
   "execution_count": 4,
   "id": "a9661bc7-cea1-48b3-8715-eb254205800b",
   "metadata": {},
   "outputs": [
    {
     "name": "stdout",
     "output_type": "stream",
     "text": [
      "Microsoft Windows [Version 10.0.26100.4349]\n",
      "(c) Microsoft Corporation. All rights reserved.\n",
      "\n",
      "(base) C:\\Users\\farha>pip install cmake\n",
      "Requirement already satisfied: cmake in c:\\users\\farha\\anaconda3\\lib\\site-packages (4.0.3)\n",
      "\n",
      "(base) C:\\Users\\farha>"
     ]
    }
   ],
   "source": [
    "%%cmd\n",
    "pip install cmake"
   ]
  },
  {
   "cell_type": "code",
   "execution_count": 5,
   "id": "1c0682c0-8f21-4307-8731-5f86b7db29b9",
   "metadata": {},
   "outputs": [
    {
     "name": "stdout",
     "output_type": "stream",
     "text": [
      "Microsoft Windows [Version 10.0.26100.4349]\n",
      "(c) Microsoft Corporation. All rights reserved.\n",
      "\n",
      "(base) C:\\Users\\farha>python --version\n",
      "Python 3.12.7\n",
      "\n",
      "(base) C:\\Users\\farha>"
     ]
    }
   ],
   "source": [
    "%%cmd\n",
    "python --version"
   ]
  },
  {
   "cell_type": "code",
   "execution_count": 6,
   "id": "9a505169-702b-4ff3-b7cf-34584e06a6df",
   "metadata": {},
   "outputs": [
    {
     "name": "stdout",
     "output_type": "stream",
     "text": [
      "Microsoft Windows [Version 10.0.26100.4349]\n",
      "(c) Microsoft Corporation. All rights reserved.\n",
      "\n",
      "(base) C:\\Users\\farha>pip install \"C:\\Users\\farha\\Downloads\\dlib-19.24.99-cp312-cp312-win_amd64.whl\"\n",
      "Processing c:\\users\\farha\\downloads\\dlib-19.24.99-cp312-cp312-win_amd64.whl\n",
      "Installing collected packages: dlib\n",
      "Successfully installed dlib-19.24.99\n",
      "\n",
      "(base) C:\\Users\\farha>"
     ]
    }
   ],
   "source": [
    "%%cmd\n",
    "pip install \"C:\\Users\\farha\\Downloads\\dlib-19.24.99-cp312-cp312-win_amd64.whl\""
   ]
  },
  {
   "cell_type": "code",
   "execution_count": 7,
   "id": "e67460ff-1f90-4787-beff-acad765ad338",
   "metadata": {},
   "outputs": [
    {
     "name": "stdout",
     "output_type": "stream",
     "text": [
      "Microsoft Windows [Version 10.0.26100.4349]\n",
      "(c) Microsoft Corporation. All rights reserved.\n",
      "\n",
      "(base) C:\\Users\\farha>pip install face-recognition\n",
      "Collecting face-recognition\n",
      "  Using cached face_recognition-1.3.0-py2.py3-none-any.whl.metadata (21 kB)\n",
      "Collecting face-recognition-models>=0.3.0 (from face-recognition)\n",
      "  Using cached face_recognition_models-0.3.0-py2.py3-none-any.whl\n",
      "Requirement already satisfied: Click>=6.0 in c:\\users\\farha\\anaconda3\\lib\\site-packages (from face-recognition) (8.1.7)\n",
      "Requirement already satisfied: dlib>=19.7 in c:\\users\\farha\\anaconda3\\lib\\site-packages (from face-recognition) (19.24.99)\n",
      "Requirement already satisfied: numpy in c:\\users\\farha\\anaconda3\\lib\\site-packages (from face-recognition) (1.26.4)\n",
      "Requirement already satisfied: Pillow in c:\\users\\farha\\anaconda3\\lib\\site-packages (from face-recognition) (10.4.0)\n",
      "Requirement already satisfied: colorama in c:\\users\\farha\\anaconda3\\lib\\site-packages (from Click>=6.0->face-recognition) (0.4.6)\n",
      "Using cached face_recognition-1.3.0-py2.py3-none-any.whl (15 kB)\n",
      "Installing collected packages: face-recognition-models, face-recognition\n",
      "Successfully installed face-recognition-1.3.0 face-recognition-models-0.3.0\n",
      "\n",
      "(base) C:\\Users\\farha>"
     ]
    }
   ],
   "source": [
    "%%cmd\n",
    "pip install face-recognition"
   ]
  },
  {
   "cell_type": "code",
   "execution_count": 8,
   "id": "8f567e6f-2a49-428f-89b5-ec036912fa8b",
   "metadata": {},
   "outputs": [],
   "source": [
    "import cv2\n",
    "import face_recognition"
   ]
  },
  {
   "cell_type": "code",
   "execution_count": 9,
   "id": "2e15062b-708d-43a7-82e3-118dfedbcbe2",
   "metadata": {},
   "outputs": [],
   "source": [
    "known_face_encodings = []\n",
    "known_face_names = []"
   ]
  },
  {
   "cell_type": "code",
   "execution_count": 17,
   "id": "0b131f5d-80b2-4a43-a517-3dca205f6c03",
   "metadata": {},
   "outputs": [],
   "source": [
    "known_person1_image = face_recognition.load_image_file('farhan.JPEG')\n",
    "known_person2_image = face_recognition.load_image_file('safi.jpeg')"
   ]
  },
  {
   "cell_type": "code",
   "execution_count": 18,
   "id": "cec3e792-9d67-4b57-8c84-39f7d5e61d47",
   "metadata": {},
   "outputs": [],
   "source": [
    "known_person1_encoding = face_recognition.face_encodings(known_person1_image)[0]\n",
    "known_person2_encoding = face_recognition.face_encodings(known_person2_image)[0]"
   ]
  },
  {
   "cell_type": "code",
   "execution_count": 19,
   "id": "93e6bc72-f02f-41cb-94fb-accdeb3eddad",
   "metadata": {},
   "outputs": [],
   "source": [
    "known_face_encodings.append(known_person1_encoding)\n",
    "known_face_encodings.append(known_person2_encoding)"
   ]
  },
  {
   "cell_type": "code",
   "execution_count": 20,
   "id": "4dfaacf9-54a4-4766-949e-5ab7c2d55abf",
   "metadata": {},
   "outputs": [],
   "source": [
    "known_face_names.append(\"Farhan\")\n",
    "known_face_names.append(\"SafiUllah\")"
   ]
  },
  {
   "cell_type": "code",
   "execution_count": 21,
   "id": "24ac8efb-218c-48f3-8b50-18c6c50180bb",
   "metadata": {},
   "outputs": [],
   "source": [
    "video_capture = cv2.VideoCapture(0)"
   ]
  },
  {
   "cell_type": "code",
   "execution_count": 22,
   "id": "9b1bdd17-f7ca-425b-80f3-427e182720b2",
   "metadata": {},
   "outputs": [],
   "source": [
    "while True:\n",
    "    ret, frame = video_capture.read()\n",
    "    face_locations = face_recognition.face_locations(frame)\n",
    "    face_encodings = face_recognition.face_encodings(frame, face_locations)\n",
    "\n",
    "    for (top, right, bottom, left), face_encoding in zip(face_locations, face_encodings):\n",
    "        matches = face_recognition.compare_faces(known_face_encodings, face_encoding)\n",
    "        name = \"Unknown\"\n",
    "        if True in matches:\n",
    "            first_match_index = matches.index(True)\n",
    "            name = known_face_names[first_match_index]\n",
    "\n",
    "        # Draw a box around the face and label with the name\n",
    "        cv2.rectangle(frame, (left, top), (right, bottom), (0, 255, 0), 2)\n",
    "        cv2.putText(frame, name, (left, top - 10), cv2.FONT_HERSHEY_SIMPLEX, 0.9, (0, 255, 0), 2)\n",
    "\n",
    "    cv2.imshow(\"Video\", frame)\n",
    "\n",
    "    if cv2.waitKey(1) & 0xFF == ord('q'):\n",
    "        break\n",
    "\n",
    "video_capture.release()\n",
    "cv2.destroyAllWindows()"
   ]
  },
  {
   "cell_type": "code",
   "execution_count": null,
   "id": "184d0e8e-a7e1-437c-9735-6f8f02395419",
   "metadata": {},
   "outputs": [],
   "source": []
  }
 ],
 "metadata": {
  "kernelspec": {
   "display_name": "Python [conda env:base] *",
   "language": "python",
   "name": "conda-base-py"
  },
  "language_info": {
   "codemirror_mode": {
    "name": "ipython",
    "version": 3
   },
   "file_extension": ".py",
   "mimetype": "text/x-python",
   "name": "python",
   "nbconvert_exporter": "python",
   "pygments_lexer": "ipython3",
   "version": "3.12.7"
  }
 },
 "nbformat": 4,
 "nbformat_minor": 5
}
